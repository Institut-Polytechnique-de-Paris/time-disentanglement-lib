{
 "cells": [
  {
   "cell_type": "markdown",
   "metadata": {},
   "source": [
    "# GAM in EnergyML\n",
    "\n",
    "based on statsmodels.gam.tests.test_gam.TestGAMMPG\n",
    "\n",
    "This contains now the basic working version.\n",
    "\n",
    "\n",
    "We are here working with fixed penalization weights `alpha`. Selection of penalization weights is still incomplete."
   ]
  },
  {
   "cell_type": "code",
   "execution_count": null,
   "metadata": {
    "collapsed": true
   },
   "outputs": [],
   "source": []
  },
  {
   "cell_type": "code",
   "execution_count": 1,
   "metadata": {
    "collapsed": false
   },
   "outputs": [],
   "source": [
    "%matplotlib inline\n",
    "import os\n",
    "\n",
    "import numpy as np\n",
    "from numpy.testing import assert_allclose\n",
    "import matplotlib.pyplot as plt\n",
    "import pandas as pd\n",
    "\n",
    "import patsy\n",
    "import patsy.splines as bspl\n",
    "import patsy.mgcv_cubic_splines as cspl\n",
    "\n",
    "from statsmodels.regression.linear_model import OLS\n",
    "from statsmodels.discrete.discrete_model import Poisson, Logit, Probit\n",
    "from statsmodels.genmod.generalized_linear_model import GLM\n",
    "from statsmodels.genmod.families import family\n",
    "from statsmodels.sandbox.regression.penalized import TheilGLS\n",
    "from statsmodels.base._penalized import PenalizedMixin\n",
    "import statsmodels.base._penalties as smpen\n",
    "\n",
    "from statsmodels.gam.smooth_basis import (BSplines, CubicSplines,\n",
    "                                          CyclicCubicSplines)\n",
    "from statsmodels.gam.gam import GLMGam"
   ]
  },
  {
   "cell_type": "code",
   "execution_count": 2,
   "metadata": {
    "collapsed": true
   },
   "outputs": [],
   "source": [
    "from statsmodels.gam.tests import test_gam\n",
    "from statsmodels.gam.tests.results import results_mpg_bs as res_mgcv"
   ]
  },
  {
   "cell_type": "code",
   "execution_count": 3,
   "metadata": {
    "collapsed": true
   },
   "outputs": [],
   "source": [
    "cur_dir = os.path.dirname(os.path.abspath(test_gam.__file__))\n",
    "\n",
    "file_path = os.path.join(cur_dir, \"results\", \"autos.csv\")\n",
    "df_autos_ = pd.read_csv(file_path)\n",
    "df_autos = df_autos_[['city_mpg', 'fuel', 'drive', 'weight', 'hp']].dropna()"
   ]
  },
  {
   "cell_type": "code",
   "execution_count": 4,
   "metadata": {
    "collapsed": true
   },
   "outputs": [],
   "source": [
    "file_path = os.path.join(cur_dir, \"results\", \"autos_predict.csv\")\n",
    "res_pred = pd.read_csv(file_path)"
   ]
  },
  {
   "cell_type": "code",
   "execution_count": 5,
   "metadata": {
    "collapsed": false
   },
   "outputs": [
    {
     "data": {
      "text/html": [
       "<div>\n",
       "<table border=\"1\" class=\"dataframe\">\n",
       "  <thead>\n",
       "    <tr style=\"text-align: right;\">\n",
       "      <th></th>\n",
       "      <th>city_mpg</th>\n",
       "      <th>fuel</th>\n",
       "      <th>drive</th>\n",
       "      <th>weight</th>\n",
       "      <th>hp</th>\n",
       "    </tr>\n",
       "  </thead>\n",
       "  <tbody>\n",
       "    <tr>\n",
       "      <th>0</th>\n",
       "      <td>21</td>\n",
       "      <td>gas</td>\n",
       "      <td>rwd</td>\n",
       "      <td>2548</td>\n",
       "      <td>111.0</td>\n",
       "    </tr>\n",
       "    <tr>\n",
       "      <th>1</th>\n",
       "      <td>21</td>\n",
       "      <td>gas</td>\n",
       "      <td>rwd</td>\n",
       "      <td>2548</td>\n",
       "      <td>111.0</td>\n",
       "    </tr>\n",
       "    <tr>\n",
       "      <th>2</th>\n",
       "      <td>19</td>\n",
       "      <td>gas</td>\n",
       "      <td>rwd</td>\n",
       "      <td>2823</td>\n",
       "      <td>154.0</td>\n",
       "    </tr>\n",
       "    <tr>\n",
       "      <th>3</th>\n",
       "      <td>24</td>\n",
       "      <td>gas</td>\n",
       "      <td>fwd</td>\n",
       "      <td>2337</td>\n",
       "      <td>102.0</td>\n",
       "    </tr>\n",
       "    <tr>\n",
       "      <th>4</th>\n",
       "      <td>18</td>\n",
       "      <td>gas</td>\n",
       "      <td>4wd</td>\n",
       "      <td>2824</td>\n",
       "      <td>115.0</td>\n",
       "    </tr>\n",
       "  </tbody>\n",
       "</table>\n",
       "</div>"
      ],
      "text/plain": [
       "   city_mpg fuel drive  weight     hp\n",
       "0        21  gas   rwd    2548  111.0\n",
       "1        21  gas   rwd    2548  111.0\n",
       "2        19  gas   rwd    2823  154.0\n",
       "3        24  gas   fwd    2337  102.0\n",
       "4        18  gas   4wd    2824  115.0"
      ]
     },
     "execution_count": 5,
     "metadata": {},
     "output_type": "execute_result"
    }
   ],
   "source": [
    "df_autos.head()"
   ]
  },
  {
   "cell_type": "code",
   "execution_count": 6,
   "metadata": {
    "collapsed": false
   },
   "outputs": [
    {
     "data": {
      "text/html": [
       "<div>\n",
       "<table border=\"1\" class=\"dataframe\">\n",
       "  <thead>\n",
       "    <tr style=\"text-align: right;\">\n",
       "      <th></th>\n",
       "      <th>Row.names</th>\n",
       "      <th>fit</th>\n",
       "      <th>se_fit</th>\n",
       "      <th>fit_fuel</th>\n",
       "      <th>fit_drive</th>\n",
       "      <th>fit_s_weight_</th>\n",
       "      <th>fit_s_hp.</th>\n",
       "      <th>se.fit_fuel</th>\n",
       "      <th>se.fit_drive</th>\n",
       "      <th>se.fit_s_weight_</th>\n",
       "      <th>se.fit_s_hp.</th>\n",
       "    </tr>\n",
       "  </thead>\n",
       "  <tbody>\n",
       "    <tr>\n",
       "      <th>0</th>\n",
       "      <td>1</td>\n",
       "      <td>21.004549</td>\n",
       "      <td>0.649519</td>\n",
       "      <td>-5.508351</td>\n",
       "      <td>0.349134</td>\n",
       "      <td>-0.902276</td>\n",
       "      <td>-1.694105</td>\n",
       "      <td>0.869684</td>\n",
       "      <td>1.169621</td>\n",
       "      <td>0.488886</td>\n",
       "      <td>0.430747</td>\n",
       "    </tr>\n",
       "    <tr>\n",
       "      <th>1</th>\n",
       "      <td>2</td>\n",
       "      <td>21.004549</td>\n",
       "      <td>0.649519</td>\n",
       "      <td>-5.508351</td>\n",
       "      <td>0.349134</td>\n",
       "      <td>-0.902276</td>\n",
       "      <td>-1.694105</td>\n",
       "      <td>0.869684</td>\n",
       "      <td>1.169621</td>\n",
       "      <td>0.488886</td>\n",
       "      <td>0.430747</td>\n",
       "    </tr>\n",
       "    <tr>\n",
       "      <th>2</th>\n",
       "      <td>3</td>\n",
       "      <td>17.547334</td>\n",
       "      <td>0.709550</td>\n",
       "      <td>-5.508351</td>\n",
       "      <td>0.349134</td>\n",
       "      <td>-0.884486</td>\n",
       "      <td>-5.169110</td>\n",
       "      <td>0.869684</td>\n",
       "      <td>1.169621</td>\n",
       "      <td>0.607747</td>\n",
       "      <td>0.669556</td>\n",
       "    </tr>\n",
       "    <tr>\n",
       "      <th>3</th>\n",
       "      <td>4</td>\n",
       "      <td>23.823625</td>\n",
       "      <td>0.549217</td>\n",
       "      <td>-5.508351</td>\n",
       "      <td>2.264275</td>\n",
       "      <td>-0.282829</td>\n",
       "      <td>-1.409616</td>\n",
       "      <td>0.869684</td>\n",
       "      <td>1.132888</td>\n",
       "      <td>0.396038</td>\n",
       "      <td>0.413609</td>\n",
       "    </tr>\n",
       "    <tr>\n",
       "      <th>4</th>\n",
       "      <td>5</td>\n",
       "      <td>20.597137</td>\n",
       "      <td>1.201011</td>\n",
       "      <td>-5.508351</td>\n",
       "      <td>0.000000</td>\n",
       "      <td>-0.886322</td>\n",
       "      <td>-1.768336</td>\n",
       "      <td>0.869684</td>\n",
       "      <td>0.000000</td>\n",
       "      <td>0.607941</td>\n",
       "      <td>0.484633</td>\n",
       "    </tr>\n",
       "  </tbody>\n",
       "</table>\n",
       "</div>"
      ],
      "text/plain": [
       "   Row.names        fit    se_fit  fit_fuel  fit_drive  fit_s_weight_  \\\n",
       "0          1  21.004549  0.649519 -5.508351   0.349134      -0.902276   \n",
       "1          2  21.004549  0.649519 -5.508351   0.349134      -0.902276   \n",
       "2          3  17.547334  0.709550 -5.508351   0.349134      -0.884486   \n",
       "3          4  23.823625  0.549217 -5.508351   2.264275      -0.282829   \n",
       "4          5  20.597137  1.201011 -5.508351   0.000000      -0.886322   \n",
       "\n",
       "   fit_s_hp.  se.fit_fuel  se.fit_drive  se.fit_s_weight_  se.fit_s_hp.  \n",
       "0  -1.694105     0.869684      1.169621          0.488886      0.430747  \n",
       "1  -1.694105     0.869684      1.169621          0.488886      0.430747  \n",
       "2  -5.169110     0.869684      1.169621          0.607747      0.669556  \n",
       "3  -1.409616     0.869684      1.132888          0.396038      0.413609  \n",
       "4  -1.768336     0.869684      0.000000          0.607941      0.484633  "
      ]
     },
     "execution_count": 6,
     "metadata": {},
     "output_type": "execute_result"
    }
   ],
   "source": [
    "res_pred.head()"
   ]
  },
  {
   "cell_type": "markdown",
   "metadata": {},
   "source": [
    "The general model with a linear link function is\n",
    "\n",
    "$y = X \\beta + \\sum_k f_k(x_k) = X \\beta + \\sum_k \\sum_j b_{j,k} g_{j, k}(x_k)$\n",
    "\n",
    "Each nonparametric function $f_k$ is modeled as a linear combination of basis functions $g_{j, k}$\n",
    "\n",
    "$f_k(x_k) = \\sum_j b_{j,k} g_{j, k}(x_k)$\n",
    "\n",
    "The overall model is linear in parameters and can be estimated by a standard model like OLS or GLM. Patsy provides basis function for several types of splines that can be used with the formula interface in statsmodels. However, in this case we can use only a small number of basis functions relative to the number of observations to avoid overfitting.\n",
    "\n",
    "As alternative we can use penalization to avoid overfitting and impose more smoothness while at the same time increasing the number of knots. The importance of the spline basis function for the fit of the data then depends on the smoothing or penalization parameters and less on the total number of basis functions.\n",
    "\n",
    "This notebook illustrates the basic use case of a new class in statsmodels to fit generalized additive models, GAM, and penalized splines. The penalization is quadratic and similar to Ridge Regression, except that we penalize in most cases the integrated square of the second derivative of the function, and thus penalizing large fluctuations.\n",
    "\n",
    "The implementation is based on maximum penalized loglikeliood estimation. The full GAM features are currently only implemented for GLM, but a generic penalized MLE framework can use it for any type of models that directly minimize the negative loglikelihood.\n",
    "\n",
    "Currently two types of splines, B-splines and cyclic cubic splines, are available with similar features as and verfied against `mgcv` R package.\n",
    "\n",
    "**Current status:**  \n",
    "The core features are now verified against R mgcv, but currently only for linear Gaussian GLM.  \n",
    "API is still experimental, and some parts will still change, especially also in the internal API, i.e. API for penalization and spline classes.  \n"
   ]
  },
  {
   "cell_type": "markdown",
   "metadata": {},
   "source": [
    "The model that we are using has miles per gallon in city traffic `city_mpg` as the dependent variable.\n",
    "The first two explanatory variable, 'fuel' and 'drive' are treated as linear effects, both arecategorical variables.\n",
    "The effect of two continuous variables, 'weight' and horse power 'hp' are modeled by penalized B-splines.\n",
    "\n",
    "In the following we use patsy to create a design matrix for the constant and the categorical variables.\n",
    "The model will be estimated by GLMGam which takes an instance of an additive spline class as argument, so we need to create it first."
   ]
  },
  {
   "cell_type": "code",
   "execution_count": 7,
   "metadata": {
    "collapsed": false
   },
   "outputs": [],
   "source": [
    "# penalization weights are taken from mgcv to match up its results\n",
    "sp = np.array([0.830689464223685, 425.361212061649])\n",
    "s_scale = np.array([2.443955e-06, 0.007945455])\n",
    "\n",
    "\n",
    "x_spline = df_autos[['weight', 'hp']].values\n",
    "exog = patsy.dmatrix('fuel + drive', data=df_autos)\n",
    "\n",
    "# TODO: set `include_intercept=True` automatically if constraints='center'\n",
    "bs = BSplines(x_spline, df=[12, 10], degree=[3, 3], variable_names=['weight', 'hp'], \n",
    "              constraints='center', include_intercept=True)\n",
    "alpha = 1 / s_scale * sp / 2\n",
    "gam_bs = GLMGam(df_autos['city_mpg'], exog=exog, smoother=bs,\n",
    "                alpha=alpha)\n",
    "res1a = gam_bs.fit()  # default is pirls with use_t=False\n",
    "\n",
    "res1b = gam_bs.fit(method='newton', use_t=True)"
   ]
  },
  {
   "cell_type": "markdown",
   "metadata": {},
   "source": [
    "The overall design matrix, `model.exog` has 24 columns, 4 for the linear component, 11 for the first and 9 for the second spline component."
   ]
  },
  {
   "cell_type": "code",
   "execution_count": 8,
   "metadata": {
    "collapsed": false
   },
   "outputs": [
    {
     "data": {
      "text/plain": [
       "(203, 24)"
      ]
     },
     "execution_count": 8,
     "metadata": {},
     "output_type": "execute_result"
    }
   ],
   "source": [
    "gam_bs.exog.shape"
   ]
  },
  {
   "cell_type": "code",
   "execution_count": 9,
   "metadata": {
    "collapsed": false
   },
   "outputs": [
    {
     "data": {
      "text/plain": [
       "['Intercept', 'fuel[T.gas]', 'drive[T.fwd]', 'drive[T.rwd]']"
      ]
     },
     "execution_count": 9,
     "metadata": {},
     "output_type": "execute_result"
    }
   ],
   "source": [
    "dir(exog.design_info)\n",
    "exog.design_info.column_names"
   ]
  },
  {
   "cell_type": "code",
   "execution_count": 10,
   "metadata": {
    "collapsed": false
   },
   "outputs": [
    {
     "data": {
      "text/plain": [
       "(11, 9)"
      ]
     },
     "execution_count": 10,
     "metadata": {},
     "output_type": "execute_result"
    }
   ],
   "source": [
    "k_smooth0 = res1a.model.smoother.smoothers_[0].basis_.shape[1]\n",
    "k_smooth1 = res1a.model.smoother.smoothers_[1].basis_.shape[1]\n",
    "k_smooth0, k_smooth1"
   ]
  },
  {
   "cell_type": "markdown",
   "metadata": {},
   "source": [
    "Currently the name handling is not finished. We create our own list of variable names and attach it to the model overwriting the automatically created names."
   ]
  },
  {
   "cell_type": "code",
   "execution_count": 11,
   "metadata": {
    "collapsed": false
   },
   "outputs": [
    {
     "data": {
      "text/plain": [
       "['Intercept',\n",
       " 'fuel[T.gas]',\n",
       " 'drive[T.fwd]',\n",
       " 'drive[T.rwd]',\n",
       " 'weight0',\n",
       " 'weight1',\n",
       " 'weight2',\n",
       " 'weight3',\n",
       " 'weight4',\n",
       " 'weight5',\n",
       " 'weight6',\n",
       " 'weight7',\n",
       " 'weight8',\n",
       " 'weight9',\n",
       " 'weight10',\n",
       " 'hp0',\n",
       " 'hp1',\n",
       " 'hp2',\n",
       " 'hp3',\n",
       " 'hp4',\n",
       " 'hp5',\n",
       " 'hp6',\n",
       " 'hp7',\n",
       " 'hp8']"
      ]
     },
     "execution_count": 11,
     "metadata": {},
     "output_type": "execute_result"
    }
   ],
   "source": [
    "xnames = exog.design_info.column_names + res1a.model.smoother.col_names\n",
    "xnames"
   ]
  },
  {
   "cell_type": "code",
   "execution_count": 12,
   "metadata": {
    "collapsed": false
   },
   "outputs": [
    {
     "name": "stdout",
     "output_type": "stream",
     "text": [
      "                 Generalized Linear Model Regression Results                  \n",
      "==============================================================================\n",
      "Dep. Variable:               city_mpg   No. Observations:                  203\n",
      "Model:                         GLMGam   Df Residuals:                   185.10\n",
      "Model Family:                Gaussian   Df Model:                        16.90\n",
      "Link Function:               identity   Scale:                          4.7065\n",
      "Method:                         PIRLS   Log-Likelihood:                -435.89\n",
      "Date:                Tue, 13 Nov 2018   Deviance:                       871.17\n",
      "Time:                        12:24:38   Pearson chi2:                     871.\n",
      "No. Iterations:                     3   Covariance Type:             nonrobust\n",
      "================================================================================\n",
      "                   coef    std err          z      P>|z|      [0.025      0.975]\n",
      "--------------------------------------------------------------------------------\n",
      "Intercept       29.6273      1.107     26.755      0.000      27.457      31.798\n",
      "fuel[T.gas]     -6.2137      0.731     -8.501      0.000      -7.646      -4.781\n",
      "drive[T.fwd]     1.4399      0.803      1.794      0.073      -0.133       3.013\n",
      "drive[T.rwd]     1.0113      0.827      1.223      0.221      -0.610       2.632\n",
      "weight0         20.1054      3.459      5.812      0.000      13.325      26.886\n",
      "weight1         -1.2601      1.723     -0.731      0.465      -4.638       2.118\n",
      "weight2         -5.2687      1.346     -3.914      0.000      -7.907      -2.630\n",
      "weight3         -4.5440      1.129     -4.026      0.000      -6.756      -2.332\n",
      "weight4         -7.6006      1.238     -6.138      0.000     -10.027      -5.174\n",
      "weight5         -5.0104      1.251     -4.006      0.000      -7.462      -2.559\n",
      "weight6         -6.9623      1.326     -5.252      0.000      -9.560      -4.364\n",
      "weight7         -9.0672      1.463     -6.199      0.000     -11.934      -6.200\n",
      "weight8         -8.8183      2.087     -4.226      0.000     -12.908      -4.728\n",
      "weight9         -7.9146      2.448     -3.233      0.001     -12.713      -3.116\n",
      "weight10        -6.2807      1.577     -3.984      0.000      -9.371      -3.191\n",
      "hp0              5.0931      0.706      7.211      0.000       3.709       6.477\n",
      "hp1              1.9085      0.340      5.608      0.000       1.241       2.575\n",
      "hp2             -0.6462      0.439     -1.471      0.141      -1.507       0.215\n",
      "hp3             -1.5024      0.476     -3.157      0.002      -2.435      -0.570\n",
      "hp4             -4.1924      0.682     -6.151      0.000      -5.528      -2.857\n",
      "hp5             -5.7299      0.863     -6.641      0.000      -7.421      -4.039\n",
      "hp6             -6.8332      1.297     -5.268      0.000      -9.376      -4.291\n",
      "hp7             -5.7709      2.010     -2.871      0.004      -9.711      -1.831\n",
      "hp8             -4.2911      1.897     -2.262      0.024      -8.009      -0.573\n",
      "================================================================================\n"
     ]
    }
   ],
   "source": [
    "xnames = exog.design_info.column_names + res1a.model.smoother.col_names\n",
    "res1a.model.exog_names[:] = xnames\n",
    "\n",
    "# Note, we could also specify the parameter names directly for summary.\n",
    "# print(res1a.summary(xname=xnames))\n",
    "print(res1a.summary())"
   ]
  },
  {
   "cell_type": "markdown",
   "metadata": {},
   "source": [
    "The summary shows the usual GLM results. The parameters for the linear components can be interpreted as usually. However, the parameters for the spline basis functions do not have any clear interpretation. Specifically the original spline basis functions have been transformed to impose that the average prediction for each spline component is zero. However we can see that all except for two spline components are statistically significant and contribute to the fit.\n",
    "\n",
    "Even though we have 24 explanatory variables or columns in the design matrix, the effective number is smaller because of the penalization. In this case we see that the effective degrees of freedom, df_model plus 1 for the constant, is 17.9.\n"
   ]
  },
  {
   "cell_type": "code",
   "execution_count": 13,
   "metadata": {
    "collapsed": false
   },
   "outputs": [
    {
     "data": {
      "text/plain": [
       "(185.09998586957269, 17.900014130427309)"
      ]
     },
     "execution_count": 13,
     "metadata": {},
     "output_type": "execute_result"
    }
   ],
   "source": [
    "res1a.df_resid, res1a.df_model + 1"
   ]
  },
  {
   "cell_type": "markdown",
   "metadata": {},
   "source": [
    "## Partial Prediction\n",
    "\n",
    "A better way to see the effect of the variable that underlies the spline is to look at partial prediction. The contribution of each spline component to the linear prediction is our estimate of the nonlinear function `f` in the description of the model.\n",
    "\n",
    "Partial prediction at the sample point can be obtained through the `partial_values` method. Instead of looking at those numbers we will provide the equivalent plots."
   ]
  },
  {
   "cell_type": "code",
   "execution_count": 14,
   "metadata": {
    "collapsed": false
   },
   "outputs": [],
   "source": [
    "part0, part0_se = res1a.partial_values(0)\n",
    "part1, part1_se = res1a.partial_values(1)"
   ]
  },
  {
   "cell_type": "markdown",
   "metadata": {},
   "source": [
    "### Partial Prediction Plot with CPR\n",
    "`cpr` is component plus residual. The following plots corresponds to a CCPR regression plot, available in statsmodels.graphics.\n",
    "\n",
    "This includes also the constant, so we get the additional uncertainty. Otherwise the confidence interval of the B-splines is zero at the first point because the first basis function has been dropped to have a nonsingular design matrix.\n",
    "\n",
    "We use resid_working for GLM. I'm not sure whether that makes sense for some link functions."
   ]
  },
  {
   "cell_type": "code",
   "execution_count": 15,
   "metadata": {
    "collapsed": false
   },
   "outputs": [
    {
     "data": {
      "image/png": "[encoded data removed]",
      "text/plain": [
       "<matplotlib.figure.Figure at 0xb932e80>"
      ]
     },
     "metadata": {},
     "output_type": "display_data"
    }
   ],
   "source": [
    "fig = res1a.plot_partial(0, cpr=True)"
   ]
  },
  {
   "cell_type": "code",
   "execution_count": 16,
   "metadata": {
    "collapsed": false
   },
   "outputs": [
    {
     "data": {
      "image/png": "[encoded data removed]",
      "text/plain": [
       "<matplotlib.figure.Figure at 0x76c5f60>"
      ]
     },
     "metadata": {},
     "output_type": "display_data"
    }
   ],
   "source": [
    "fig = res1a.plot_partial(1, cpr=True)"
   ]
  },
  {
   "cell_type": "markdown",
   "metadata": {},
   "source": [
    "### Plot without cpr\n"
   ]
  },
  {
   "cell_type": "code",
   "execution_count": 17,
   "metadata": {
    "collapsed": false
   },
   "outputs": [
    {
     "data": {
      "image/png": "[encoded data removed]",
      "text/plain": [
       "<matplotlib.figure.Figure at 0xf850be0>"
      ]
     },
     "metadata": {},
     "output_type": "display_data"
    }
   ],
   "source": [
    "fig = res1a.plot_partial(0)"
   ]
  },
  {
   "cell_type": "code",
   "execution_count": 18,
   "metadata": {
    "collapsed": false
   },
   "outputs": [
    {
     "data": {
      "image/png": "[encoded data removed]",
      "text/plain": [
       "<matplotlib.figure.Figure at 0xf911da0>"
      ]
     },
     "metadata": {},
     "output_type": "display_data"
    }
   ],
   "source": [
    "fig = res1a.plot_partial(1)"
   ]
  },
  {
   "cell_type": "markdown",
   "metadata": {},
   "source": [
    "## Wald test\n",
    "\n",
    "Default is using normal and chisquare distribution, i.e. `use_t=False`.  \n",
    "\n",
    "We can use wald_test_terms for joint hypothesis when parameters that belong to the same explanatory variable can be identified by name.\n",
    "\n",
    "**Warning:** generic wald test, i.e. those inherited from the base classes do not yet take effective degrees of freedom into account.\n",
    "\n",
    "A model specific method, `test_significane` is available for testing whether a component modeled by the spline is zero or constant. This method takes `edf` into account. `test_significance` is a standard Wald test except that degrees of freedom have been replaced by effective degrees of freedom."
   ]
  },
  {
   "cell_type": "code",
   "execution_count": 19,
   "metadata": {
    "collapsed": false
   },
   "outputs": [
    {
     "data": {
      "text/plain": [
       "<class 'statsmodels.stats.contrast.WaldTestResults'>\n",
       "              chi2                  P>chi2  df constraint\n",
       "fuel     72.260652  1.8857012798855524e-17              1\n",
       "drive     3.509491     0.17295123773359317              2\n",
       "weight  131.205902   9.923257765194286e-23             11\n",
       "hp       70.116213  1.4448532927533344e-11              9"
      ]
     },
     "execution_count": 19,
     "metadata": {},
     "output_type": "execute_result"
    }
   ],
   "source": [
    "res1a.wald_test_terms(skip_single=True, combine_terms=['fuel', 'drive', 'weight', 'hp'])"
   ]
  },
  {
   "cell_type": "markdown",
   "metadata": {},
   "source": [
    "results when use_t is True"
   ]
  },
  {
   "cell_type": "code",
   "execution_count": 20,
   "metadata": {
    "collapsed": false
   },
   "outputs": [
    {
     "data": {
      "text/plain": [
       "<class 'statsmodels.stats.contrast.WaldTestResults'>\n",
       "                F                     P>F  df constraint    df denom\n",
       "fuel    72.260652    6.17307890496181e-15              1  185.099986\n",
       "drive    1.754746     0.17581588475526833              2  185.099986\n",
       "weight  11.927809   9.135620948653085e-17             11  185.099986\n",
       "hp       7.790690  1.0522812964137523e-09              9  185.099986"
      ]
     },
     "execution_count": 20,
     "metadata": {},
     "output_type": "execute_result"
    }
   ],
   "source": [
    "res1b.wald_test_terms(skip_single=True, combine_terms=['fuel', 'drive', 'weight', 'hp'])"
   ]
  },
  {
   "cell_type": "code",
   "execution_count": 21,
   "metadata": {
    "collapsed": false
   },
   "outputs": [
    {
     "data": {
      "text/plain": [
       "<class 'statsmodels.stats.contrast.ContrastResults'>\n",
       "<F test: F=array([[ 12.79612043]]), p=4.10817312103462e-17, df_denom=185, df_num=10.3>"
      ]
     },
     "execution_count": 21,
     "metadata": {},
     "output_type": "execute_result"
    }
   ],
   "source": [
    "res1b.test_significance(0)"
   ]
  },
  {
   "cell_type": "code",
   "execution_count": 22,
   "metadata": {
    "collapsed": false
   },
   "outputs": [
    {
     "data": {
      "text/plain": [
       "<class 'statsmodels.stats.contrast.ContrastResults'>\n",
       "<F test: F=array([[ 19.22864809]]), p=1.9378091125595854e-12, df_denom=185, df_num=3.65>"
      ]
     },
     "execution_count": 22,
     "metadata": {},
     "output_type": "execute_result"
    }
   ],
   "source": [
    "res1b.test_significance(1)"
   ]
  },
  {
   "cell_type": "markdown",
   "metadata": {},
   "source": [
    "We can compare results with mgcv. \n",
    "\n",
    "Our values are close to those of mgcv but there is a difference where it is not clear where it comes from. statsmodels and mgcv have the same edf, but mgcv might be using `Ref.df`. H the p-values are very small in this example and there might be only minor differences for larger p-values resulting from small differences in the df or edf used in the hypothesis test.\n",
    "\n",
    "\n",
    "\n",
    "```\n",
    "> summary(gam_a)\n",
    "\n",
    "Family: gaussian \n",
    "Link function: identity \n",
    "\n",
    "Formula:\n",
    "city.mpg ~ fuel + drive + s(weight, bs = \"bs\", k = 12) + s(hp, \n",
    "    bs = \"bs\", k = 10)\n",
    "\n",
    "Parametric coefficients:\n",
    "            Estimate Std. Error t value Pr(>|t|)    \n",
    "(Intercept)  29.6273     1.1074  26.755  < 2e-16 ***\n",
    "fuelgas      -6.2137     0.7310  -8.501 6.17e-15 ***\n",
    "drivefwd      1.4399     0.8027   1.794   0.0745 .  \n",
    "driverwd      1.0113     0.8272   1.223   0.2230    \n",
    "---\n",
    "Signif. codes:  0 ‘***’ 0.001 ‘**’ 0.01 ‘*’ 0.05 ‘.’ 0.1 ‘ ’ 1\n",
    "\n",
    "Approximate significance of smooth terms:\n",
    "             edf Ref.df     F  p-value    \n",
    "s(weight) 10.254 10.806 12.22  < 2e-16 ***\n",
    "s(hp)      3.646  4.395 15.78 6.22e-12 ***\n",
    "---\n",
    "Signif. codes:  0 ‘***’ 0.001 ‘**’ 0.01 ‘*’ 0.05 ‘.’ 0.1 ‘ ’ 1\n",
    "\n",
    "R-sq.(adj) =  0.891   Deviance explained =   90%\n",
    "GCV = 5.1616  Scale est. = 4.7065    n = 203\n",
    "```"
   ]
  },
  {
   "cell_type": "code",
   "execution_count": 23,
   "metadata": {
    "collapsed": false
   },
   "outputs": [
    {
     "data": {
      "text/plain": [
       "array(0, dtype=int64)"
      ]
     },
     "execution_count": 23,
     "metadata": {},
     "output_type": "execute_result"
    }
   ],
   "source": [
    "res1a.model.data.const_idx"
   ]
  },
  {
   "cell_type": "code",
   "execution_count": 24,
   "metadata": {
    "collapsed": false
   },
   "outputs": [
    {
     "data": {
      "text/plain": [
       "[<matplotlib.lines.Line2D at 0xf9d5668>]"
      ]
     },
     "execution_count": 24,
     "metadata": {},
     "output_type": "execute_result"
    },
    {
     "data": {
      "image/png": "[encoded data removed]",
      "text/plain": [
       "<matplotlib.figure.Figure at 0xf964240>"
      ]
     },
     "metadata": {},
     "output_type": "display_data"
    }
   ],
   "source": [
    "plt.plot(res1a.fittedvalues, res1a.model.endog, '.')\n",
    "plt.plot(res1a.fittedvalues, res1a.fittedvalues, '-')"
   ]
  },
  {
   "cell_type": "code",
   "execution_count": 25,
   "metadata": {
    "collapsed": false
   },
   "outputs": [
    {
     "data": {
      "text/plain": [
       "[<matplotlib.lines.Line2D at 0xfa3ff60>]"
      ]
     },
     "execution_count": 25,
     "metadata": {},
     "output_type": "execute_result"
    },
    {
     "data": {
      "image/png": "[encoded data removed]",
      "text/plain": [
       "<matplotlib.figure.Figure at 0xf89cd30>"
      ]
     },
     "metadata": {},
     "output_type": "display_data"
    }
   ],
   "source": [
    "plt.plot(res1a.model.endog, res1a.resid_response, '.')"
   ]
  },
  {
   "cell_type": "markdown",
   "metadata": {},
   "source": [
    "## Variable addition score test\n",
    "\n",
    "We can use the score test to test whether the restricted model with only linear terms is appropriate or whether that model is rejected in favor of adding splines.\n",
    "\n",
    "The problem here is that the spline basis also includes an implicit linear term. The score_test does not take this into account and reports the number of constraints equal to the number of columns instead of the dimension of the subspace that is in addition to the already included exog.\n",
    "\n",
    "**Warning:** GLM.score_test is currently a \"hidden\", not-advertised method, which means it is a prototype for experimental use but will be replaced by an official GLMResults method, which is currently waiting in a pull request.\n",
    "\n",
    "In the following we estimate a GLM with linear components, and then test whether adding spline components is statistically significant.  \n",
    "However the current score test does not take the linear dependence of the spline component with already included variables into account when computing the degrees of freedom for the constraint. As workaround we use two helper functions, `partial_project` and `pca`, to compute the contribution of the spline component that is orthogonal to the already included linear term. This does not change the test chi-square statistic but reduces the degrees of freedom for the constraint to 18.\n",
    "\n",
    "As we can see from the results, the score_test for variable addition and therefore the linear specification is rejected, and we should add the spline component.\n",
    "\n",
    "**Note** This is a test with the alternative of adding all spline basis functions to the model and not a hypothesis test of adding a penalized version of it. Effective degrees of freedom are not used.\n",
    "\n",
    "As in the Wald test, the hypothesis that the linear specification is correct is strongly rejected.\n"
   ]
  },
  {
   "cell_type": "code",
   "execution_count": 26,
   "metadata": {
    "collapsed": false
   },
   "outputs": [],
   "source": [
    "mod_glm = GLM.from_formula('city_mpg ~ fuel + drive + weight + hp', df_autos)\n",
    "res_glm = mod_glm.fit()"
   ]
  },
  {
   "cell_type": "code",
   "execution_count": 27,
   "metadata": {
    "collapsed": false
   },
   "outputs": [
    {
     "data": {
      "text/plain": [
       "(array([ 108.91677455]), array([  3.09383926e-14]), 20)"
      ]
     },
     "execution_count": 27,
     "metadata": {},
     "output_type": "execute_result"
    }
   ],
   "source": [
    "res_glm.model.score_test(res_glm.params, exog_extra=bs.basis_)"
   ]
  },
  {
   "cell_type": "code",
   "execution_count": 28,
   "metadata": {
    "collapsed": false
   },
   "outputs": [
    {
     "data": {
      "text/plain": [
       "(203, 20)"
      ]
     },
     "execution_count": 28,
     "metadata": {},
     "output_type": "execute_result"
    }
   ],
   "source": [
    "bs.basis_.shape"
   ]
  },
  {
   "cell_type": "code",
   "execution_count": 29,
   "metadata": {
    "collapsed": false
   },
   "outputs": [],
   "source": [
    "from statsmodels.stats.multivariate_tools import partial_project\n",
    "projection_resid = partial_project(bs.basis_, res_glm.model.exog)"
   ]
  },
  {
   "cell_type": "code",
   "execution_count": 30,
   "metadata": {
    "collapsed": false
   },
   "outputs": [
    {
     "data": {
      "text/plain": [
       "(18, 20)"
      ]
     },
     "execution_count": 30,
     "metadata": {},
     "output_type": "execute_result"
    }
   ],
   "source": [
    "np.linalg.matrix_rank(projection_resid.resid), projection_resid.resid.shape[1]"
   ]
  },
  {
   "cell_type": "code",
   "execution_count": 31,
   "metadata": {
    "collapsed": false
   },
   "outputs": [
    {
     "data": {
      "text/plain": [
       "(array([ 108.91677455]), array([  3.09383926e-14]), 20)"
      ]
     },
     "execution_count": 31,
     "metadata": {},
     "output_type": "execute_result"
    }
   ],
   "source": [
    "res_glm.model.score_test(res_glm.params, exog_extra=bs.basis_)\n"
   ]
  },
  {
   "cell_type": "code",
   "execution_count": 32,
   "metadata": {
    "collapsed": false
   },
   "outputs": [],
   "source": [
    "from statsmodels.sandbox.tools.tools_pca import pca"
   ]
  },
  {
   "cell_type": "code",
   "execution_count": 33,
   "metadata": {
    "collapsed": false
   },
   "outputs": [
    {
     "data": {
      "text/plain": [
       "(array([ 108.91677455]), array([  5.00598345e-15]), 18)"
      ]
     },
     "execution_count": 33,
     "metadata": {},
     "output_type": "execute_result"
    }
   ],
   "source": [
    "red = pca(projection_resid.resid, keepdim=18, demean=False)[1]\n",
    "res_glm.model.score_test(res_glm.params, exog_extra=red)"
   ]
  },
  {
   "cell_type": "markdown",
   "metadata": {},
   "source": [
    "## Prediction for new observations\n",
    "\n",
    "Prediction currently requires the design matrix for the linear part and the variables that are used for the spline parts.\n",
    "Full formula support with automatic design matrix creation is still missing.\n",
    "\n",
    "First we construct a new dataframe for the observations for which we compute the prediction, i.e. conditional expectation. In this example we consider a car that uses gasoline as fuel and has a front wheel drive. We use five percentiles for each of the smooth terms, weight and horse power.\n",
    "\n",
    "Next we use patsy.dmatrix to create our new design matrix for the linear part. Note that this is a stateful transform and we need to provide the original design matrix, so patsy can correctly convert the categorical variables to dummy variables."
   ]
  },
  {
   "cell_type": "code",
   "execution_count": 34,
   "metadata": {
    "collapsed": false
   },
   "outputs": [
    {
     "data": {
      "text/html": [
       "<div>\n",
       "<table border=\"1\" class=\"dataframe\">\n",
       "  <thead>\n",
       "    <tr style=\"text-align: right;\">\n",
       "      <th></th>\n",
       "      <th>weight</th>\n",
       "      <th>hp</th>\n",
       "      <th>fuel</th>\n",
       "      <th>drive</th>\n",
       "    </tr>\n",
       "  </thead>\n",
       "  <tbody>\n",
       "    <tr>\n",
       "      <th>0.10</th>\n",
       "      <td>1946.0</td>\n",
       "      <td>68.0</td>\n",
       "      <td>gas</td>\n",
       "      <td>fwd</td>\n",
       "    </tr>\n",
       "    <tr>\n",
       "      <th>0.25</th>\n",
       "      <td>2145.0</td>\n",
       "      <td>70.0</td>\n",
       "      <td>gas</td>\n",
       "      <td>fwd</td>\n",
       "    </tr>\n",
       "    <tr>\n",
       "      <th>0.50</th>\n",
       "      <td>2414.0</td>\n",
       "      <td>95.0</td>\n",
       "      <td>gas</td>\n",
       "      <td>fwd</td>\n",
       "    </tr>\n",
       "    <tr>\n",
       "      <th>0.75</th>\n",
       "      <td>2943.5</td>\n",
       "      <td>116.0</td>\n",
       "      <td>gas</td>\n",
       "      <td>fwd</td>\n",
       "    </tr>\n",
       "    <tr>\n",
       "      <th>0.90</th>\n",
       "      <td>3230.0</td>\n",
       "      <td>160.0</td>\n",
       "      <td>gas</td>\n",
       "      <td>fwd</td>\n",
       "    </tr>\n",
       "  </tbody>\n",
       "</table>\n",
       "</div>"
      ],
      "text/plain": [
       "      weight     hp fuel drive\n",
       "0.10  1946.0   68.0  gas   fwd\n",
       "0.25  2145.0   70.0  gas   fwd\n",
       "0.50  2414.0   95.0  gas   fwd\n",
       "0.75  2943.5  116.0  gas   fwd\n",
       "0.90  3230.0  160.0  gas   fwd"
      ]
     },
     "execution_count": 34,
     "metadata": {},
     "output_type": "execute_result"
    }
   ],
   "source": [
    "df_new = df_autos[['weight', 'hp']].quantile([0.1, 0.25, 0.5, 0.75, 0.9])\n",
    "df_new['fuel'] = 'gas'\n",
    "df_new['drive'] = 'fwd'\n",
    "df_new"
   ]
  },
  {
   "cell_type": "code",
   "execution_count": 35,
   "metadata": {
    "collapsed": false
   },
   "outputs": [],
   "source": [
    "# note stateful transform\n",
    "exog_linear_new = patsy.dmatrix(exog.design_info, df_new, return_type=\"dataframe\")"
   ]
  },
  {
   "cell_type": "code",
   "execution_count": 36,
   "metadata": {
    "collapsed": false
   },
   "outputs": [
    {
     "data": {
      "text/plain": [
       "array([ 32.4405619 ,  29.71396177,  24.02805174,  21.11556954,  17.37701468])"
      ]
     },
     "execution_count": 36,
     "metadata": {},
     "output_type": "execute_result"
    }
   ],
   "source": [
    "# TODO: smooth x cannot be a dataframe\n",
    "res1b.predict(exog_linear_new, df_new[['weight', 'hp']].values)"
   ]
  },
  {
   "cell_type": "markdown",
   "metadata": {},
   "source": [
    "We varied both smooth terms at the same time. Instead we can vary only one smooth term and keep the other term at its mean."
   ]
  },
  {
   "cell_type": "code",
   "execution_count": 37,
   "metadata": {
    "collapsed": false
   },
   "outputs": [
    {
     "data": {
      "text/plain": [
       "array([ 27.47259444,  27.15972987,  23.80511056,  22.08912555,  20.02775013])"
      ]
     },
     "execution_count": 37,
     "metadata": {},
     "output_type": "execute_result"
    }
   ],
   "source": [
    "df_new2 = df_new.copy()\n",
    "df_new2['weight'] = df_new['weight'].mean()\n",
    "res1b.predict(exog_linear_new, df_new2[['weight', 'hp']].values)"
   ]
  },
  {
   "cell_type": "code",
   "execution_count": 38,
   "metadata": {
    "collapsed": false
   },
   "outputs": [
    {
     "data": {
      "text/plain": [
       "array([ 28.08722431,  25.67348875,  23.34219804,  22.14570084,  20.4685214 ])"
      ]
     },
     "execution_count": 38,
     "metadata": {},
     "output_type": "execute_result"
    }
   ],
   "source": [
    "df_new3 = df_new.copy()\n",
    "df_new3['hp'] = df_new['hp'].mean()\n",
    "res1b.predict(exog_linear_new, df_new3[['weight', 'hp']].values)"
   ]
  },
  {
   "cell_type": "markdown",
   "metadata": {},
   "source": [
    "`predict` only computes the expected value for a new observations. Instead, we can use the `get_prediction` method which returns a prediction results instance with additional attributes and methods such as standard errors and confidence intervals for the predicted mean."
   ]
  },
  {
   "cell_type": "code",
   "execution_count": 39,
   "metadata": {
    "collapsed": false
   },
   "outputs": [
    {
     "data": {
      "text/plain": [
       "array([ 28.08722431,  25.67348875,  23.34219804,  22.14570084,  20.4685214 ])"
      ]
     },
     "execution_count": 39,
     "metadata": {},
     "output_type": "execute_result"
    }
   ],
   "source": [
    "pred = res1b.get_prediction(exog_linear_new, df_new3[['weight', 'hp']].values)\n",
    "pred.predicted_mean"
   ]
  },
  {
   "cell_type": "code",
   "execution_count": 40,
   "metadata": {
    "collapsed": false
   },
   "outputs": [
    {
     "data": {
      "text/plain": [
       "array([ 0.71039517,  0.63746064,  0.4644517 ,  0.63797194,  0.79398475])"
      ]
     },
     "execution_count": 40,
     "metadata": {},
     "output_type": "execute_result"
    }
   ],
   "source": [
    "pred.se_mean"
   ]
  },
  {
   "cell_type": "code",
   "execution_count": 41,
   "metadata": {
    "collapsed": false
   },
   "outputs": [
    {
     "data": {
      "text/plain": [
       "array([[ 26.68571202,  29.4887366 ],\n",
       "       [ 24.41586629,  26.93111121],\n",
       "       [ 22.42589849,  24.25849758],\n",
       "       [ 20.88706965,  23.40433203],\n",
       "       [ 18.90209832,  22.03494447]])"
      ]
     },
     "execution_count": 41,
     "metadata": {},
     "output_type": "execute_result"
    }
   ],
   "source": [
    "pred.conf_int()"
   ]
  },
  {
   "cell_type": "markdown",
   "metadata": {},
   "source": [
    "## Choosing the smoothing or penalty parameter\n",
    "\n",
    "At the moment there is no built-in method to choose the penalty parameters `alpha`.\n",
    "\n",
    "In the following we use scipy optimizers to minimize several selection criteria, gcv, aic and bic which are available as attributes of the results instance.  \n",
    "The code below investigates the possibility of multiple local minima or near minima at which optimizers end up and differences across selection criteria.\n",
    "\n",
    "\n",
    "see https://github.com/statsmodels/statsmodels/issues/5381 which includes the following\n",
    "\n",
    "It can be difficult to minimize aic, bic or gcv to find the optimial smoothing or penalty parameter in GAM.\n",
    "\n",
    "I looked at the behavior of scipy optimizers when only the objective function is provided. (mgcv also has approximate derivative but I have not included any.)\n",
    "The example is miles per gallon in city traffic depending on 2 categorical variable and 2 smooth, B-spline terms, weight and horse power. The correlation between weight and horse power is 0.75 and both variables have a similar downward sloping effect on mpg.\n",
    "\n",
    "- Penalization parameters have to be positive or non-negative, so it is best to use a log-link, i.e. use exp(alpha) for the  optimization\n",
    "- The penalty parameter estimates depends on starting values and optimization method, nelder-mead, bfgs or basinhopping.\n",
    "using basinhopping with nelder-mead seems to converge resonably well to the same values from different start_params. Using default lbfgsb with basinhopping did not look good.\n",
    "- none of the estimated penalty parameters are close to those of mgcv. But mgcv values are large and there does not seem to be much effect of varying the penalty parameter in that range.\n",
    "- aic undersmooths for some penalty parameter estimates, often undersmooths only one component\n",
    "- gcv has very smooth estimate, and likely oversmooths\n",
    "- using the average between aic and gcv estimate looks good in graph.\n",
    "\n",
    "This means we/users need to check the results in case the optimizer gets ends in local optima or near-optima.\n",
    "One possibility is to start gcv minimization at the aic estimate and vice-versa to avoid that those are in different local optima.\n",
    "Another possibility in case of high correlation would be to change the penalty parameters in opposite direction for new starting values, eg. double one and half the other. This would help in case when a local minimum has one spline function oversmoothed and the other undersmoothed.\n",
    "\n",
    "**visual inspection**  \n",
    "using the plot_partial method can be used to quickly see the smoothness of the estimated partial prediction\n",
    "fig = res_aic.plot_partial(0, cpr=True)\n",
    "\n",
    "**current computational structure:**\n",
    "\n",
    "we can use the internal fit_pirls to change the penalization parameter alpha during the optimization.\n",
    "The fit method currently does not have an alpha argument and we need to create a new model with the chosen alpha. The smoother or spline instance can be reused when creating a new model.  \n",
    "Currently we cannot have several results instances that are based on different alpha and hold the same model instance because the alpha is a model attribute and not a results parameter.  \n",
    "This structure will likely change in future versions.\n"
   ]
  },
  {
   "cell_type": "code",
   "execution_count": 42,
   "metadata": {
    "collapsed": true
   },
   "outputs": [],
   "source": [
    "from scipy.optimize import fmin, fmin_bfgs, minimize, basinhopping\n",
    "x = np.array([0, 0])"
   ]
  },
  {
   "cell_type": "code",
   "execution_count": 43,
   "metadata": {
    "collapsed": false
   },
   "outputs": [
    {
     "data": {
      "text/plain": [
       "array([ 169947.7822267,   26767.5804634])"
      ]
     },
     "execution_count": 43,
     "metadata": {},
     "output_type": "execute_result"
    }
   ],
   "source": [
    "alpha  # mgcv equivalent"
   ]
  },
  {
   "cell_type": "code",
   "execution_count": 44,
   "metadata": {
    "collapsed": false
   },
   "outputs": [
    {
     "name": "stdout",
     "output_type": "stream",
     "text": [
      "Optimization terminated successfully.\n",
      "         Current function value: 907.347699\n",
      "         Iterations: 36\n",
      "         Function evaluations: 67\n"
     ]
    },
    {
     "data": {
      "text/plain": [
       "(array([ 11.22682894,   9.86966346]),\n",
       " array([ 75119.01041465,  19334.83085966]))"
      ]
     },
     "execution_count": 44,
     "metadata": {},
     "output_type": "execute_result"
    }
   ],
   "source": [
    "fun = lambda p: gam_bs._fit_pirls(alpha=[np.exp(p[0]), np.exp(p[1])]).aic\n",
    "x = x_aic = fmin(fun, np.log(alpha).tolist())\n",
    "x, np.exp(x)"
   ]
  },
  {
   "cell_type": "code",
   "execution_count": 45,
   "metadata": {
    "collapsed": false
   },
   "outputs": [
    {
     "name": "stdout",
     "output_type": "stream",
     "text": [
      "Optimization terminated successfully.\n",
      "         Current function value: 5.653825\n",
      "         Iterations: 34\n",
      "         Function evaluations: 65\n"
     ]
    },
    {
     "data": {
      "text/plain": [
       "(array([ 12.39068244,  10.79505194]),\n",
       " array([ 240549.80518384,   48778.84240277]))"
      ]
     },
     "execution_count": 45,
     "metadata": {},
     "output_type": "execute_result"
    }
   ],
   "source": [
    "fun = lambda p: gam_bs._fit_pirls(alpha=[np.exp(p[0]), np.exp(p[1])]).gcv\n",
    "x = x_gcv = fmin(fun, x_aic)\n",
    "x, np.exp(x)"
   ]
  },
  {
   "cell_type": "code",
   "execution_count": 46,
   "metadata": {
    "collapsed": true
   },
   "outputs": [],
   "source": [
    "#x = np.array([1, 1])\n",
    "history = []\n",
    "history_params = []"
   ]
  },
  {
   "cell_type": "code",
   "execution_count": 47,
   "metadata": {
    "collapsed": false
   },
   "outputs": [
    {
     "name": "stdout",
     "output_type": "stream",
     "text": [
      "Optimization terminated successfully.\n",
      "         Current function value: 907.347699\n",
      "         Iterations: 35\n",
      "         Function evaluations: 68\n"
     ]
    },
    {
     "data": {
      "text/plain": [
       "(array([ 11.2268819 ,   9.86965926]), array([ 75122.9888025,  19334.7496646]))"
      ]
     },
     "execution_count": 47,
     "metadata": {},
     "output_type": "execute_result"
    }
   ],
   "source": [
    "def fun(p, objective='aic'): \n",
    "    res = gam_bs._fit_pirls(alpha=[np.exp(p[0]), np.exp(p[1])])\n",
    "    history_params.append(p)\n",
    "    history.append([res.aic, res.gcv, res.bic, res.cv])\n",
    "    \n",
    "    return getattr(res, objective)\n",
    "\n",
    "x_aic = x = fmin(fun, x)\n",
    "x, np.exp(x)"
   ]
  },
  {
   "cell_type": "code",
   "execution_count": 48,
   "metadata": {
    "collapsed": false
   },
   "outputs": [],
   "source": [
    "hist_p = np.asarray(history_params)"
   ]
  },
  {
   "cell_type": "code",
   "execution_count": 49,
   "metadata": {
    "collapsed": false
   },
   "outputs": [],
   "source": [
    "hist = np.asarray(history)\n",
    "hist_res = np.column_stack((hist_p, hist))"
   ]
  },
  {
   "cell_type": "code",
   "execution_count": 50,
   "metadata": {
    "collapsed": false
   },
   "outputs": [
    {
     "data": {
      "text/html": [
       "<div>\n",
       "<table border=\"1\" class=\"dataframe\">\n",
       "  <thead>\n",
       "    <tr style=\"text-align: right;\">\n",
       "      <th></th>\n",
       "      <th>p0</th>\n",
       "      <th>p1</th>\n",
       "      <th>aic</th>\n",
       "      <th>gcv</th>\n",
       "      <th>bic</th>\n",
       "      <th>cv</th>\n",
       "    </tr>\n",
       "  </thead>\n",
       "  <tbody>\n",
       "    <tr>\n",
       "      <th>0</th>\n",
       "      <td>12.390682</td>\n",
       "      <td>10.795052</td>\n",
       "      <td>908.158316</td>\n",
       "      <td>5.653825</td>\n",
       "      <td>-107.714598</td>\n",
       "      <td>7.082931</td>\n",
       "    </tr>\n",
       "    <tr>\n",
       "      <th>1</th>\n",
       "      <td>13.010217</td>\n",
       "      <td>10.795052</td>\n",
       "      <td>908.832263</td>\n",
       "      <td>5.656113</td>\n",
       "      <td>-103.213774</td>\n",
       "      <td>6.639704</td>\n",
       "    </tr>\n",
       "    <tr>\n",
       "      <th>2</th>\n",
       "      <td>12.390682</td>\n",
       "      <td>11.334805</td>\n",
       "      <td>908.847521</td>\n",
       "      <td>5.660265</td>\n",
       "      <td>-103.506104</td>\n",
       "      <td>7.103010</td>\n",
       "    </tr>\n",
       "    <tr>\n",
       "      <th>3</th>\n",
       "      <td>13.010217</td>\n",
       "      <td>10.255299</td>\n",
       "      <td>908.547175</td>\n",
       "      <td>5.661834</td>\n",
       "      <td>-105.761468</td>\n",
       "      <td>6.636342</td>\n",
       "    </tr>\n",
       "    <tr>\n",
       "      <th>4</th>\n",
       "      <td>12.390682</td>\n",
       "      <td>10.255299</td>\n",
       "      <td>907.849184</td>\n",
       "      <td>5.658978</td>\n",
       "      <td>-110.331291</td>\n",
       "      <td>7.072854</td>\n",
       "    </tr>\n",
       "    <tr>\n",
       "      <th>5</th>\n",
       "      <td>12.080915</td>\n",
       "      <td>9.985423</td>\n",
       "      <td>907.572446</td>\n",
       "      <td>5.665391</td>\n",
       "      <td>-112.809554</td>\n",
       "      <td>7.328070</td>\n",
       "    </tr>\n",
       "    <tr>\n",
       "      <th>6</th>\n",
       "      <td>11.461381</td>\n",
       "      <td>10.525176</td>\n",
       "      <td>907.546826</td>\n",
       "      <td>5.660812</td>\n",
       "      <td>-112.569566</td>\n",
       "      <td>8.050819</td>\n",
       "    </tr>\n",
       "    <tr>\n",
       "      <th>7</th>\n",
       "      <td>10.686964</td>\n",
       "      <td>10.660114</td>\n",
       "      <td>907.673366</td>\n",
       "      <td>5.669177</td>\n",
       "      <td>-112.464454</td>\n",
       "      <td>9.643831</td>\n",
       "    </tr>\n",
       "    <tr>\n",
       "      <th>8</th>\n",
       "      <td>11.151614</td>\n",
       "      <td>9.715547</td>\n",
       "      <td>907.357574</td>\n",
       "      <td>5.681645</td>\n",
       "      <td>-115.707177</td>\n",
       "      <td>8.488434</td>\n",
       "    </tr>\n",
       "    <tr>\n",
       "      <th>9</th>\n",
       "      <td>10.532080</td>\n",
       "      <td>9.175794</td>\n",
       "      <td>907.563087</td>\n",
       "      <td>5.709325</td>\n",
       "      <td>-116.730225</td>\n",
       "      <td>9.852919</td>\n",
       "    </tr>\n",
       "    <tr>\n",
       "      <th>10</th>\n",
       "      <td>10.532080</td>\n",
       "      <td>10.255299</td>\n",
       "      <td>907.474491</td>\n",
       "      <td>5.675351</td>\n",
       "      <td>-114.365265</td>\n",
       "      <td>10.018856</td>\n",
       "    </tr>\n",
       "    <tr>\n",
       "      <th>11</th>\n",
       "      <td>10.222313</td>\n",
       "      <td>9.445670</td>\n",
       "      <td>907.519285</td>\n",
       "      <td>5.701741</td>\n",
       "      <td>-116.371429</td>\n",
       "      <td>10.904747</td>\n",
       "    </tr>\n",
       "    <tr>\n",
       "      <th>12</th>\n",
       "      <td>10.532080</td>\n",
       "      <td>9.715547</td>\n",
       "      <td>907.420259</td>\n",
       "      <td>5.689017</td>\n",
       "      <td>-115.931137</td>\n",
       "      <td>9.923837</td>\n",
       "    </tr>\n",
       "    <tr>\n",
       "      <th>13</th>\n",
       "      <td>11.151614</td>\n",
       "      <td>9.175794</td>\n",
       "      <td>907.499900</td>\n",
       "      <td>5.701865</td>\n",
       "      <td>-116.511036</td>\n",
       "      <td>8.460044</td>\n",
       "    </tr>\n",
       "    <tr>\n",
       "      <th>14</th>\n",
       "      <td>10.686964</td>\n",
       "      <td>9.985423</td>\n",
       "      <td>907.395768</td>\n",
       "      <td>5.679438</td>\n",
       "      <td>-115.256848</td>\n",
       "      <td>9.529465</td>\n",
       "    </tr>\n",
       "    <tr>\n",
       "      <th>15</th>\n",
       "      <td>11.306498</td>\n",
       "      <td>9.985423</td>\n",
       "      <td>907.354276</td>\n",
       "      <td>5.671985</td>\n",
       "      <td>-114.877777</td>\n",
       "      <td>8.247512</td>\n",
       "    </tr>\n",
       "    <tr>\n",
       "      <th>16</th>\n",
       "      <td>11.693707</td>\n",
       "      <td>10.120361</td>\n",
       "      <td>907.427836</td>\n",
       "      <td>5.664720</td>\n",
       "      <td>-113.731706</td>\n",
       "      <td>7.728103</td>\n",
       "    </tr>\n",
       "    <tr>\n",
       "      <th>17</th>\n",
       "      <td>11.771148</td>\n",
       "      <td>9.715547</td>\n",
       "      <td>907.437162</td>\n",
       "      <td>5.675080</td>\n",
       "      <td>-114.593134</td>\n",
       "      <td>7.628920</td>\n",
       "    </tr>\n",
       "    <tr>\n",
       "      <th>18</th>\n",
       "      <td>10.958010</td>\n",
       "      <td>9.917954</td>\n",
       "      <td>907.361171</td>\n",
       "      <td>5.677979</td>\n",
       "      <td>-115.361047</td>\n",
       "      <td>8.878529</td>\n",
       "    </tr>\n",
       "    <tr>\n",
       "      <th>19</th>\n",
       "      <td>11.500102</td>\n",
       "      <td>9.783016</td>\n",
       "      <td>907.368351</td>\n",
       "      <td>5.675498</td>\n",
       "      <td>-115.093865</td>\n",
       "      <td>7.956680</td>\n",
       "    </tr>\n",
       "    <tr>\n",
       "      <th>20</th>\n",
       "      <td>11.093533</td>\n",
       "      <td>9.884219</td>\n",
       "      <td>907.351126</td>\n",
       "      <td>5.677256</td>\n",
       "      <td>-115.364833</td>\n",
       "      <td>8.606332</td>\n",
       "    </tr>\n",
       "    <tr>\n",
       "      <th>21</th>\n",
       "      <td>11.248416</td>\n",
       "      <td>10.154096</td>\n",
       "      <td>907.380943</td>\n",
       "      <td>5.668787</td>\n",
       "      <td>-114.413306</td>\n",
       "      <td>8.353475</td>\n",
       "    </tr>\n",
       "    <tr>\n",
       "      <th>22</th>\n",
       "      <td>11.175815</td>\n",
       "      <td>9.825184</td>\n",
       "      <td>907.348953</td>\n",
       "      <td>5.677958</td>\n",
       "      <td>-115.441301</td>\n",
       "      <td>8.453391</td>\n",
       "    </tr>\n",
       "    <tr>\n",
       "      <th>23</th>\n",
       "      <td>10.962850</td>\n",
       "      <td>9.723980</td>\n",
       "      <td>907.367540</td>\n",
       "      <td>5.683684</td>\n",
       "      <td>-115.818831</td>\n",
       "      <td>8.850353</td>\n",
       "    </tr>\n",
       "    <tr>\n",
       "      <th>24</th>\n",
       "      <td>11.220586</td>\n",
       "      <td>9.920062</td>\n",
       "      <td>907.348704</td>\n",
       "      <td>5.674724</td>\n",
       "      <td>-115.157752</td>\n",
       "      <td>8.383219</td>\n",
       "    </tr>\n",
       "    <tr>\n",
       "      <th>25</th>\n",
       "      <td>11.302868</td>\n",
       "      <td>9.861027</td>\n",
       "      <td>907.348955</td>\n",
       "      <td>5.675396</td>\n",
       "      <td>-115.215430</td>\n",
       "      <td>8.245674</td>\n",
       "    </tr>\n",
       "    <tr>\n",
       "      <th>26</th>\n",
       "      <td>11.250534</td>\n",
       "      <td>9.866825</td>\n",
       "      <td>907.347818</td>\n",
       "      <td>5.675849</td>\n",
       "      <td>-115.263067</td>\n",
       "      <td>8.329937</td>\n",
       "    </tr>\n",
       "    <tr>\n",
       "      <th>27</th>\n",
       "      <td>11.295305</td>\n",
       "      <td>9.961703</td>\n",
       "      <td>907.351974</td>\n",
       "      <td>5.672727</td>\n",
       "      <td>-114.959054</td>\n",
       "      <td>8.263715</td>\n",
       "    </tr>\n",
       "    <tr>\n",
       "      <th>28</th>\n",
       "      <td>11.205687</td>\n",
       "      <td>9.859314</td>\n",
       "      <td>907.347828</td>\n",
       "      <td>5.676601</td>\n",
       "      <td>-115.329366</td>\n",
       "      <td>8.404318</td>\n",
       "    </tr>\n",
       "    <tr>\n",
       "      <th>29</th>\n",
       "      <td>11.235635</td>\n",
       "      <td>9.806077</td>\n",
       "      <td>907.349259</td>\n",
       "      <td>5.677808</td>\n",
       "      <td>-115.426041</td>\n",
       "      <td>8.350661</td>\n",
       "    </tr>\n",
       "    <tr>\n",
       "      <th>...</th>\n",
       "      <td>...</td>\n",
       "      <td>...</td>\n",
       "      <td>...</td>\n",
       "      <td>...</td>\n",
       "      <td>...</td>\n",
       "      <td>...</td>\n",
       "    </tr>\n",
       "    <tr>\n",
       "      <th>38</th>\n",
       "      <td>11.227957</td>\n",
       "      <td>9.872373</td>\n",
       "      <td>907.347702</td>\n",
       "      <td>5.675961</td>\n",
       "      <td>-115.273709</td>\n",
       "      <td>8.367650</td>\n",
       "    </tr>\n",
       "    <tr>\n",
       "      <th>39</th>\n",
       "      <td>11.212658</td>\n",
       "      <td>9.868901</td>\n",
       "      <td>907.347740</td>\n",
       "      <td>5.676243</td>\n",
       "      <td>-115.298371</td>\n",
       "      <td>8.393138</td>\n",
       "    </tr>\n",
       "    <tr>\n",
       "      <th>40</th>\n",
       "      <td>11.231164</td>\n",
       "      <td>9.869099</td>\n",
       "      <td>907.347703</td>\n",
       "      <td>5.676015</td>\n",
       "      <td>-115.278532</td>\n",
       "      <td>8.362085</td>\n",
       "    </tr>\n",
       "    <tr>\n",
       "      <th>41</th>\n",
       "      <td>11.237086</td>\n",
       "      <td>9.875780</td>\n",
       "      <td>907.347735</td>\n",
       "      <td>5.675755</td>\n",
       "      <td>-115.255322</td>\n",
       "      <td>8.352678</td>\n",
       "    </tr>\n",
       "    <tr>\n",
       "      <th>42</th>\n",
       "      <td>11.225797</td>\n",
       "      <td>9.868214</td>\n",
       "      <td>907.347700</td>\n",
       "      <td>5.676105</td>\n",
       "      <td>-115.286449</td>\n",
       "      <td>8.370987</td>\n",
       "    </tr>\n",
       "    <tr>\n",
       "      <th>43</th>\n",
       "      <td>11.222590</td>\n",
       "      <td>9.871489</td>\n",
       "      <td>907.347704</td>\n",
       "      <td>5.676050</td>\n",
       "      <td>-115.281591</td>\n",
       "      <td>8.376577</td>\n",
       "    </tr>\n",
       "    <tr>\n",
       "      <th>44</th>\n",
       "      <td>11.229021</td>\n",
       "      <td>9.869696</td>\n",
       "      <td>907.347700</td>\n",
       "      <td>5.676024</td>\n",
       "      <td>-115.279316</td>\n",
       "      <td>8.365698</td>\n",
       "    </tr>\n",
       "    <tr>\n",
       "      <th>45</th>\n",
       "      <td>11.226862</td>\n",
       "      <td>9.865538</td>\n",
       "      <td>907.347706</td>\n",
       "      <td>5.676169</td>\n",
       "      <td>-115.292028</td>\n",
       "      <td>8.369032</td>\n",
       "    </tr>\n",
       "    <tr>\n",
       "      <th>46</th>\n",
       "      <td>11.227683</td>\n",
       "      <td>9.870664</td>\n",
       "      <td>907.347700</td>\n",
       "      <td>5.676013</td>\n",
       "      <td>-115.278302</td>\n",
       "      <td>8.367995</td>\n",
       "    </tr>\n",
       "    <tr>\n",
       "      <th>47</th>\n",
       "      <td>11.230906</td>\n",
       "      <td>9.872146</td>\n",
       "      <td>907.347705</td>\n",
       "      <td>5.675932</td>\n",
       "      <td>-115.271143</td>\n",
       "      <td>8.362715</td>\n",
       "    </tr>\n",
       "    <tr>\n",
       "      <th>48</th>\n",
       "      <td>11.227075</td>\n",
       "      <td>9.869197</td>\n",
       "      <td>907.347699</td>\n",
       "      <td>5.676062</td>\n",
       "      <td>-115.282633</td>\n",
       "      <td>8.368916</td>\n",
       "    </tr>\n",
       "    <tr>\n",
       "      <th>49</th>\n",
       "      <td>11.225737</td>\n",
       "      <td>9.870165</td>\n",
       "      <td>907.347700</td>\n",
       "      <td>5.676050</td>\n",
       "      <td>-115.281614</td>\n",
       "      <td>8.371217</td>\n",
       "    </tr>\n",
       "    <tr>\n",
       "      <th>50</th>\n",
       "      <td>11.225129</td>\n",
       "      <td>9.868698</td>\n",
       "      <td>907.347700</td>\n",
       "      <td>5.676099</td>\n",
       "      <td>-115.285940</td>\n",
       "      <td>8.372138</td>\n",
       "    </tr>\n",
       "    <tr>\n",
       "      <th>51</th>\n",
       "      <td>11.227044</td>\n",
       "      <td>9.870173</td>\n",
       "      <td>907.347699</td>\n",
       "      <td>5.676034</td>\n",
       "      <td>-115.280214</td>\n",
       "      <td>8.369030</td>\n",
       "    </tr>\n",
       "    <tr>\n",
       "      <th>52</th>\n",
       "      <td>11.228382</td>\n",
       "      <td>9.869205</td>\n",
       "      <td>907.347700</td>\n",
       "      <td>5.676046</td>\n",
       "      <td>-115.281229</td>\n",
       "      <td>8.366732</td>\n",
       "    </tr>\n",
       "    <tr>\n",
       "      <th>53</th>\n",
       "      <td>11.226398</td>\n",
       "      <td>9.869925</td>\n",
       "      <td>907.347699</td>\n",
       "      <td>5.676049</td>\n",
       "      <td>-115.281519</td>\n",
       "      <td>8.370094</td>\n",
       "    </tr>\n",
       "    <tr>\n",
       "      <th>54</th>\n",
       "      <td>11.226428</td>\n",
       "      <td>9.868950</td>\n",
       "      <td>907.347699</td>\n",
       "      <td>5.676076</td>\n",
       "      <td>-115.283938</td>\n",
       "      <td>8.369980</td>\n",
       "    </tr>\n",
       "    <tr>\n",
       "      <th>55</th>\n",
       "      <td>11.226890</td>\n",
       "      <td>9.869867</td>\n",
       "      <td>907.347699</td>\n",
       "      <td>5.676045</td>\n",
       "      <td>-115.281145</td>\n",
       "      <td>8.369268</td>\n",
       "    </tr>\n",
       "    <tr>\n",
       "      <th>56</th>\n",
       "      <td>11.226214</td>\n",
       "      <td>9.870595</td>\n",
       "      <td>907.347700</td>\n",
       "      <td>5.676032</td>\n",
       "      <td>-115.280030</td>\n",
       "      <td>8.370447</td>\n",
       "    </tr>\n",
       "    <tr>\n",
       "      <th>57</th>\n",
       "      <td>11.226859</td>\n",
       "      <td>9.869547</td>\n",
       "      <td>907.347699</td>\n",
       "      <td>5.676054</td>\n",
       "      <td>-115.281983</td>\n",
       "      <td>8.369298</td>\n",
       "    </tr>\n",
       "    <tr>\n",
       "      <th>58</th>\n",
       "      <td>11.227352</td>\n",
       "      <td>9.869489</td>\n",
       "      <td>907.347699</td>\n",
       "      <td>5.676050</td>\n",
       "      <td>-115.281608</td>\n",
       "      <td>8.368472</td>\n",
       "    </tr>\n",
       "    <tr>\n",
       "      <th>59</th>\n",
       "      <td>11.227113</td>\n",
       "      <td>9.869598</td>\n",
       "      <td>907.347699</td>\n",
       "      <td>5.676050</td>\n",
       "      <td>-115.281586</td>\n",
       "      <td>8.368877</td>\n",
       "    </tr>\n",
       "    <tr>\n",
       "      <th>60</th>\n",
       "      <td>11.227082</td>\n",
       "      <td>9.869277</td>\n",
       "      <td>907.347699</td>\n",
       "      <td>5.676059</td>\n",
       "      <td>-115.282424</td>\n",
       "      <td>8.368908</td>\n",
       "    </tr>\n",
       "    <tr>\n",
       "      <th>61</th>\n",
       "      <td>11.226938</td>\n",
       "      <td>9.869720</td>\n",
       "      <td>907.347699</td>\n",
       "      <td>5.676048</td>\n",
       "      <td>-115.281465</td>\n",
       "      <td>8.369178</td>\n",
       "    </tr>\n",
       "    <tr>\n",
       "      <th>62</th>\n",
       "      <td>11.226684</td>\n",
       "      <td>9.869669</td>\n",
       "      <td>907.347699</td>\n",
       "      <td>5.676053</td>\n",
       "      <td>-115.281862</td>\n",
       "      <td>8.369599</td>\n",
       "    </tr>\n",
       "    <tr>\n",
       "      <th>63</th>\n",
       "      <td>11.226792</td>\n",
       "      <td>9.869651</td>\n",
       "      <td>907.347699</td>\n",
       "      <td>5.676052</td>\n",
       "      <td>-115.281793</td>\n",
       "      <td>8.369418</td>\n",
       "    </tr>\n",
       "    <tr>\n",
       "      <th>64</th>\n",
       "      <td>11.226713</td>\n",
       "      <td>9.869478</td>\n",
       "      <td>907.347699</td>\n",
       "      <td>5.676058</td>\n",
       "      <td>-115.282311</td>\n",
       "      <td>8.369539</td>\n",
       "    </tr>\n",
       "    <tr>\n",
       "      <th>65</th>\n",
       "      <td>11.226882</td>\n",
       "      <td>9.869659</td>\n",
       "      <td>907.347699</td>\n",
       "      <td>5.676051</td>\n",
       "      <td>-115.281676</td>\n",
       "      <td>8.369268</td>\n",
       "    </tr>\n",
       "    <tr>\n",
       "      <th>66</th>\n",
       "      <td>11.226814</td>\n",
       "      <td>9.869763</td>\n",
       "      <td>907.347699</td>\n",
       "      <td>5.676049</td>\n",
       "      <td>-115.281486</td>\n",
       "      <td>8.369388</td>\n",
       "    </tr>\n",
       "    <tr>\n",
       "      <th>67</th>\n",
       "      <td>11.226848</td>\n",
       "      <td>9.869601</td>\n",
       "      <td>907.347699</td>\n",
       "      <td>5.676053</td>\n",
       "      <td>-115.281859</td>\n",
       "      <td>8.369321</td>\n",
       "    </tr>\n",
       "  </tbody>\n",
       "</table>\n",
       "<p>68 rows × 6 columns</p>\n",
       "</div>"
      ],
      "text/plain": [
       "           p0         p1         aic       gcv         bic         cv\n",
       "0   12.390682  10.795052  908.158316  5.653825 -107.714598   7.082931\n",
       "1   13.010217  10.795052  908.832263  5.656113 -103.213774   6.639704\n",
       "2   12.390682  11.334805  908.847521  5.660265 -103.506104   7.103010\n",
       "3   13.010217  10.255299  908.547175  5.661834 -105.761468   6.636342\n",
       "4   12.390682  10.255299  907.849184  5.658978 -110.331291   7.072854\n",
       "5   12.080915   9.985423  907.572446  5.665391 -112.809554   7.328070\n",
       "6   11.461381  10.525176  907.546826  5.660812 -112.569566   8.050819\n",
       "7   10.686964  10.660114  907.673366  5.669177 -112.464454   9.643831\n",
       "8   11.151614   9.715547  907.357574  5.681645 -115.707177   8.488434\n",
       "9   10.532080   9.175794  907.563087  5.709325 -116.730225   9.852919\n",
       "10  10.532080  10.255299  907.474491  5.675351 -114.365265  10.018856\n",
       "11  10.222313   9.445670  907.519285  5.701741 -116.371429  10.904747\n",
       "12  10.532080   9.715547  907.420259  5.689017 -115.931137   9.923837\n",
       "13  11.151614   9.175794  907.499900  5.701865 -116.511036   8.460044\n",
       "14  10.686964   9.985423  907.395768  5.679438 -115.256848   9.529465\n",
       "15  11.306498   9.985423  907.354276  5.671985 -114.877777   8.247512\n",
       "16  11.693707  10.120361  907.427836  5.664720 -113.731706   7.728103\n",
       "17  11.771148   9.715547  907.437162  5.675080 -114.593134   7.628920\n",
       "18  10.958010   9.917954  907.361171  5.677979 -115.361047   8.878529\n",
       "19  11.500102   9.783016  907.368351  5.675498 -115.093865   7.956680\n",
       "20  11.093533   9.884219  907.351126  5.677256 -115.364833   8.606332\n",
       "21  11.248416  10.154096  907.380943  5.668787 -114.413306   8.353475\n",
       "22  11.175815   9.825184  907.348953  5.677958 -115.441301   8.453391\n",
       "23  10.962850   9.723980  907.367540  5.683684 -115.818831   8.850353\n",
       "24  11.220586   9.920062  907.348704  5.674724 -115.157752   8.383219\n",
       "25  11.302868   9.861027  907.348955  5.675396 -115.215430   8.245674\n",
       "26  11.250534   9.866825  907.347818  5.675849 -115.263067   8.329937\n",
       "27  11.295305   9.961703  907.351974  5.672727 -114.959054   8.263715\n",
       "28  11.205687   9.859314  907.347828  5.676601 -115.329366   8.404318\n",
       "29  11.235635   9.806077  907.349259  5.677808 -115.426041   8.350661\n",
       "..        ...        ...         ...       ...         ...        ...\n",
       "38  11.227957   9.872373  907.347702  5.675961 -115.273709   8.367650\n",
       "39  11.212658   9.868901  907.347740  5.676243 -115.298371   8.393138\n",
       "40  11.231164   9.869099  907.347703  5.676015 -115.278532   8.362085\n",
       "41  11.237086   9.875780  907.347735  5.675755 -115.255322   8.352678\n",
       "42  11.225797   9.868214  907.347700  5.676105 -115.286449   8.370987\n",
       "43  11.222590   9.871489  907.347704  5.676050 -115.281591   8.376577\n",
       "44  11.229021   9.869696  907.347700  5.676024 -115.279316   8.365698\n",
       "45  11.226862   9.865538  907.347706  5.676169 -115.292028   8.369032\n",
       "46  11.227683   9.870664  907.347700  5.676013 -115.278302   8.367995\n",
       "47  11.230906   9.872146  907.347705  5.675932 -115.271143   8.362715\n",
       "48  11.227075   9.869197  907.347699  5.676062 -115.282633   8.368916\n",
       "49  11.225737   9.870165  907.347700  5.676050 -115.281614   8.371217\n",
       "50  11.225129   9.868698  907.347700  5.676099 -115.285940   8.372138\n",
       "51  11.227044   9.870173  907.347699  5.676034 -115.280214   8.369030\n",
       "52  11.228382   9.869205  907.347700  5.676046 -115.281229   8.366732\n",
       "53  11.226398   9.869925  907.347699  5.676049 -115.281519   8.370094\n",
       "54  11.226428   9.868950  907.347699  5.676076 -115.283938   8.369980\n",
       "55  11.226890   9.869867  907.347699  5.676045 -115.281145   8.369268\n",
       "56  11.226214   9.870595  907.347700  5.676032 -115.280030   8.370447\n",
       "57  11.226859   9.869547  907.347699  5.676054 -115.281983   8.369298\n",
       "58  11.227352   9.869489  907.347699  5.676050 -115.281608   8.368472\n",
       "59  11.227113   9.869598  907.347699  5.676050 -115.281586   8.368877\n",
       "60  11.227082   9.869277  907.347699  5.676059 -115.282424   8.368908\n",
       "61  11.226938   9.869720  907.347699  5.676048 -115.281465   8.369178\n",
       "62  11.226684   9.869669  907.347699  5.676053 -115.281862   8.369599\n",
       "63  11.226792   9.869651  907.347699  5.676052 -115.281793   8.369418\n",
       "64  11.226713   9.869478  907.347699  5.676058 -115.282311   8.369539\n",
       "65  11.226882   9.869659  907.347699  5.676051 -115.281676   8.369268\n",
       "66  11.226814   9.869763  907.347699  5.676049 -115.281486   8.369388\n",
       "67  11.226848   9.869601  907.347699  5.676053 -115.281859   8.369321\n",
       "\n",
       "[68 rows x 6 columns]"
      ]
     },
     "execution_count": 50,
     "metadata": {},
     "output_type": "execute_result"
    }
   ],
   "source": [
    "sort_idx = hist_p[:,0].argsort(0)\n",
    "#hist_res[sort_idx]\n",
    "col_names = 'p0 p1 aic gcv bic cv'.split()\n",
    "df_hist = pd.DataFrame(hist_res, columns=col_names)\n",
    "df_hist"
   ]
  },
  {
   "cell_type": "code",
   "execution_count": 51,
   "metadata": {
    "collapsed": false
   },
   "outputs": [
    {
     "data": {
      "text/plain": [
       "array([65,  0,  9,  3], dtype=int64)"
      ]
     },
     "execution_count": 51,
     "metadata": {},
     "output_type": "execute_result"
    }
   ],
   "source": [
    "min_idx = np.argmin(hist, 0)\n",
    "min_idx"
   ]
  },
  {
   "cell_type": "code",
   "execution_count": 52,
   "metadata": {
    "collapsed": false
   },
   "outputs": [
    {
     "data": {
      "text/plain": [
       "(array([[ 11.2268819 ,   9.86965926],\n",
       "        [ 12.39068244,  10.79505194],\n",
       "        [ 10.53208007,   9.17579415],\n",
       "        [ 13.01021656,  10.25529934]]),\n",
       " array([[  75122.9888025 ,   19334.7496646 ],\n",
       "        [ 240549.80518384,   48778.84240277],\n",
       "        [  37499.39474376,    9660.43685657],\n",
       "        [ 446956.50254215,   28432.81865686]]))"
      ]
     },
     "execution_count": 52,
     "metadata": {},
     "output_type": "execute_result"
    }
   ],
   "source": [
    "hist_p[min_idx], np.exp(hist_p[min_idx])"
   ]
  },
  {
   "cell_type": "code",
   "execution_count": 53,
   "metadata": {
    "collapsed": false
   },
   "outputs": [
    {
     "data": {
      "text/plain": [
       "<matplotlib.collections.PathCollection at 0x10ee4a90>"
      ]
     },
     "execution_count": 53,
     "metadata": {},
     "output_type": "execute_result"
    },
    {
     "data": {
      "image/png": "[encoded data removed]",
      "text/plain": [
       "<matplotlib.figure.Figure at 0xfa4e278>"
      ]
     },
     "metadata": {},
     "output_type": "display_data"
    }
   ],
   "source": [
    "plt.scatter(hist_p[:,0], hist_p[:, 1])"
   ]
  },
  {
   "cell_type": "code",
   "execution_count": 54,
   "metadata": {
    "collapsed": false
   },
   "outputs": [
    {
     "data": {
      "text/html": [
       "<div>\n",
       "<table border=\"1\" class=\"dataframe\">\n",
       "  <thead>\n",
       "    <tr style=\"text-align: right;\">\n",
       "      <th></th>\n",
       "      <th>p0</th>\n",
       "      <th>p1</th>\n",
       "      <th>aic</th>\n",
       "      <th>gcv</th>\n",
       "      <th>bic</th>\n",
       "      <th>cv</th>\n",
       "    </tr>\n",
       "  </thead>\n",
       "  <tbody>\n",
       "    <tr>\n",
       "      <th>65</th>\n",
       "      <td>11.226882</td>\n",
       "      <td>9.869659</td>\n",
       "      <td>907.347699</td>\n",
       "      <td>5.676051</td>\n",
       "      <td>-115.281676</td>\n",
       "      <td>8.369268</td>\n",
       "    </tr>\n",
       "    <tr>\n",
       "      <th>0</th>\n",
       "      <td>12.390682</td>\n",
       "      <td>10.795052</td>\n",
       "      <td>908.158316</td>\n",
       "      <td>5.653825</td>\n",
       "      <td>-107.714598</td>\n",
       "      <td>7.082931</td>\n",
       "    </tr>\n",
       "    <tr>\n",
       "      <th>9</th>\n",
       "      <td>10.532080</td>\n",
       "      <td>9.175794</td>\n",
       "      <td>907.563087</td>\n",
       "      <td>5.709325</td>\n",
       "      <td>-116.730225</td>\n",
       "      <td>9.852919</td>\n",
       "    </tr>\n",
       "    <tr>\n",
       "      <th>3</th>\n",
       "      <td>13.010217</td>\n",
       "      <td>10.255299</td>\n",
       "      <td>908.547175</td>\n",
       "      <td>5.661834</td>\n",
       "      <td>-105.761468</td>\n",
       "      <td>6.636342</td>\n",
       "    </tr>\n",
       "  </tbody>\n",
       "</table>\n",
       "</div>"
      ],
      "text/plain": [
       "           p0         p1         aic       gcv         bic        cv\n",
       "65  11.226882   9.869659  907.347699  5.676051 -115.281676  8.369268\n",
       "0   12.390682  10.795052  908.158316  5.653825 -107.714598  7.082931\n",
       "9   10.532080   9.175794  907.563087  5.709325 -116.730225  9.852919\n",
       "3   13.010217  10.255299  908.547175  5.661834 -105.761468  6.636342"
      ]
     },
     "execution_count": 54,
     "metadata": {},
     "output_type": "execute_result"
    }
   ],
   "source": [
    "df_hist.iloc[min_idx]"
   ]
  },
  {
   "cell_type": "code",
   "execution_count": null,
   "metadata": {
    "collapsed": true
   },
   "outputs": [],
   "source": []
  },
  {
   "cell_type": "code",
   "execution_count": 55,
   "metadata": {
    "collapsed": true
   },
   "outputs": [],
   "source": [
    "# some previous results with different starting values and optimizers\n",
    "a_minaic = [ 112487.6132559 ,     129.89530824]\n",
    "a_minaic = [  75122.9888025 ,   19334.7496646 ]\n",
    "a_minaic = [  1.84554244e+00,   1.95130433e+04] # basinhopping default\n",
    "a_minaic = [112486.36013144413, 129.8919251893982] # basinhopping nm\n",
    "a_mingcv = [19643062.097191658, 49251.418095354195] # basinhopping nm\n",
    "a_minbic = [73696.07497684428, 62.55870150328582]  # basinhopping nm\n",
    "\n",
    "a_mingcv = np.exp(x_gcv)\n",
    "a_minaic = np.exp(x_aic)\n",
    "a = a_minaic\n",
    "a = a_mingcv\n",
    "a = a_minbic\n",
    "\n",
    "# use average of aic and gcv estimate\n",
    "a = (a_minaic + a_mingcv) / 2\n",
    "gam_bs_aic = GLMGam(df_autos['city_mpg'], exog=exog, smoother=bs,\n",
    "                alpha=a)\n",
    "res1_aic = gam_bs_aic.fit()"
   ]
  },
  {
   "cell_type": "code",
   "execution_count": 56,
   "metadata": {
    "collapsed": false
   },
   "outputs": [
    {
     "data": {
      "text/plain": [
       "(array([ 157836.39699317,   34056.79603368]),\n",
       " array([ 75122.9888025,  19334.7496646]),\n",
       " array([ 240549.80518384,   48778.84240277]))"
      ]
     },
     "execution_count": 56,
     "metadata": {},
     "output_type": "execute_result"
    }
   ],
   "source": [
    "a, a_minaic, a_mingcv"
   ]
  },
  {
   "cell_type": "code",
   "execution_count": 57,
   "metadata": {
    "collapsed": false
   },
   "outputs": [
    {
     "data": {
      "text/plain": [
       "17.762842296343244"
      ]
     },
     "execution_count": 57,
     "metadata": {},
     "output_type": "execute_result"
    }
   ],
   "source": [
    "res1_aic.edf.sum()"
   ]
  },
  {
   "cell_type": "code",
   "execution_count": 58,
   "metadata": {
    "collapsed": false
   },
   "outputs": [
    {
     "data": {
      "image/png": "[encoded data removed]",
      "text/plain": [
       "<matplotlib.figure.Figure at 0x10ef6400>"
      ]
     },
     "metadata": {},
     "output_type": "display_data"
    }
   ],
   "source": [
    "fig = res1_aic.plot_partial(0, cpr=True)"
   ]
  },
  {
   "cell_type": "code",
   "execution_count": 59,
   "metadata": {
    "collapsed": false
   },
   "outputs": [
    {
     "data": {
      "image/png": "[encoded data removed]",
      "text/plain": [
       "<matplotlib.figure.Figure at 0x10f2ca90>"
      ]
     },
     "metadata": {},
     "output_type": "display_data"
    }
   ],
   "source": [
    "fig = res1_aic.plot_partial(1, cpr=True)"
   ]
  },
  {
   "cell_type": "code",
   "execution_count": 60,
   "metadata": {
    "collapsed": false
   },
   "outputs": [
    {
     "data": {
      "text/plain": [
       "                        fun: 907.34769921075156\n",
       " lowest_optimization_result:  final_simplex: (array([[ 11.22684271,   9.8696653 ],\n",
       "       [ 11.22684067,   9.8696088 ],\n",
       "       [ 11.22691188,   9.86962771]]), array([ 907.34769921,  907.34769921,  907.34769921]))\n",
       "           fun: 907.34769921075156\n",
       "       message: 'Optimization terminated successfully.'\n",
       "          nfev: 58\n",
       "           nit: 29\n",
       "        status: 0\n",
       "       success: True\n",
       "             x: array([ 11.22684271,   9.8696653 ])\n",
       "                    message: ['requested number of basinhopping iterations completed successfully']\n",
       "      minimization_failures: 0\n",
       "                       nfev: 654\n",
       "                        nit: 10\n",
       "                          x: array([ 11.22684271,   9.8696653 ])"
      ]
     },
     "execution_count": 60,
     "metadata": {},
     "output_type": "execute_result"
    }
   ],
   "source": [
    "basinhopping(fun, x, minimizer_kwargs={'method': 'Nelder-Mead'}, niter=10)"
   ]
  },
  {
   "cell_type": "code",
   "execution_count": 61,
   "metadata": {
    "collapsed": false
   },
   "outputs": [
    {
     "data": {
      "text/plain": [
       "[1.845542440551041, 19513.043336567418]"
      ]
     },
     "execution_count": 61,
     "metadata": {},
     "output_type": "execute_result"
    }
   ],
   "source": [
    "np.exp(np.array([ 0.61277324,  9.87883841])).tolist()"
   ]
  },
  {
   "cell_type": "code",
   "execution_count": 62,
   "metadata": {
    "collapsed": false
   },
   "outputs": [
    {
     "data": {
      "text/plain": [
       "[112486.36013144413, 129.8919251893982]"
      ]
     },
     "execution_count": 62,
     "metadata": {},
     "output_type": "execute_result"
    }
   ],
   "source": [
    "np.exp(np.array([11.63058725,   4.86670276])).tolist()"
   ]
  },
  {
   "cell_type": "code",
   "execution_count": 63,
   "metadata": {
    "collapsed": false
   },
   "outputs": [
    {
     "data": {
      "text/plain": [
       "                        fun: 5.6538245393041597\n",
       " lowest_optimization_result:  final_simplex: (array([[ 12.39062742,  10.79502202],\n",
       "       [ 12.39058025,  10.7950683 ],\n",
       "       [ 12.39066756,  10.79508847]]), array([ 5.65382454,  5.65382454,  5.65382454]))\n",
       "           fun: 5.6538245393041597\n",
       "       message: 'Optimization terminated successfully.'\n",
       "          nfev: 62\n",
       "           nit: 31\n",
       "        status: 0\n",
       "       success: True\n",
       "             x: array([ 12.39062742,  10.79502202])\n",
       "                    message: ['requested number of basinhopping iterations completed successfully']\n",
       "      minimization_failures: 0\n",
       "                       nfev: 681\n",
       "                        nit: 10\n",
       "                          x: array([ 12.39062742,  10.79502202])"
      ]
     },
     "execution_count": 63,
     "metadata": {},
     "output_type": "execute_result"
    }
   ],
   "source": [
    "basinhopping(lambda p: fun(p, objective='gcv'), x, minimizer_kwargs={'method': 'Nelder-Mead'}, niter=10)"
   ]
  },
  {
   "cell_type": "code",
   "execution_count": 64,
   "metadata": {
    "collapsed": false
   },
   "outputs": [
    {
     "data": {
      "text/plain": [
       "[19643062.097191658, 49251.418095354195]"
      ]
     },
     "execution_count": 64,
     "metadata": {},
     "output_type": "execute_result"
    }
   ],
   "source": [
    "# min gcv\n",
    "np.exp(np.array([16.79323476,  10.80469344])).tolist()  "
   ]
  },
  {
   "cell_type": "code",
   "execution_count": 65,
   "metadata": {
    "collapsed": false
   },
   "outputs": [
    {
     "data": {
      "text/plain": [
       "                        fun: -127.34066179693878\n",
       " lowest_optimization_result:  final_simplex: (array([[ 11.20770641,   4.13606207],\n",
       "       [ 11.20773554,   4.13609134],\n",
       "       [ 11.20767237,   4.13615912]]), array([-127.3406618 , -127.3406618 , -127.34066179]))\n",
       "           fun: -127.34066179693878\n",
       "       message: 'Optimization terminated successfully.'\n",
       "          nfev: 64\n",
       "           nit: 33\n",
       "        status: 0\n",
       "       success: True\n",
       "             x: array([ 11.20770641,   4.13606207])\n",
       "                    message: ['requested number of basinhopping iterations completed successfully']\n",
       "      minimization_failures: 0\n",
       "                       nfev: 703\n",
       "                        nit: 10\n",
       "                          x: array([ 11.20770641,   4.13606207])"
      ]
     },
     "execution_count": 65,
     "metadata": {},
     "output_type": "execute_result"
    }
   ],
   "source": [
    "basinhopping(lambda p: fun(p, objective='bic'), x, minimizer_kwargs={'method': 'Nelder-Mead'}, niter=10)"
   ]
  },
  {
   "cell_type": "code",
   "execution_count": 66,
   "metadata": {
    "collapsed": false
   },
   "outputs": [
    {
     "data": {
      "text/plain": [
       "[73696.07497684428, 62.55870150328582]"
      ]
     },
     "execution_count": 66,
     "metadata": {},
     "output_type": "execute_result"
    }
   ],
   "source": [
    "# min bic\n",
    "np.exp(np.array([11.20770482,   4.13610534])).tolist()  "
   ]
  },
  {
   "cell_type": "code",
   "execution_count": 67,
   "metadata": {
    "collapsed": false
   },
   "outputs": [
    {
     "data": {
      "text/html": [
       "<div>\n",
       "<table border=\"1\" class=\"dataframe\">\n",
       "  <thead>\n",
       "    <tr style=\"text-align: right;\">\n",
       "      <th></th>\n",
       "      <th>city_mpg</th>\n",
       "      <th>weight</th>\n",
       "      <th>hp</th>\n",
       "    </tr>\n",
       "  </thead>\n",
       "  <tbody>\n",
       "    <tr>\n",
       "      <th>city_mpg</th>\n",
       "      <td>1.000000</td>\n",
       "      <td>-0.758145</td>\n",
       "      <td>-0.803620</td>\n",
       "    </tr>\n",
       "    <tr>\n",
       "      <th>weight</th>\n",
       "      <td>-0.758145</td>\n",
       "      <td>1.000000</td>\n",
       "      <td>0.751034</td>\n",
       "    </tr>\n",
       "    <tr>\n",
       "      <th>hp</th>\n",
       "      <td>-0.803620</td>\n",
       "      <td>0.751034</td>\n",
       "      <td>1.000000</td>\n",
       "    </tr>\n",
       "  </tbody>\n",
       "</table>\n",
       "</div>"
      ],
      "text/plain": [
       "          city_mpg    weight        hp\n",
       "city_mpg  1.000000 -0.758145 -0.803620\n",
       "weight   -0.758145  1.000000  0.751034\n",
       "hp       -0.803620  0.751034  1.000000"
      ]
     },
     "execution_count": 67,
     "metadata": {},
     "output_type": "execute_result"
    }
   ],
   "source": [
    "df_autos.corr()"
   ]
  },
  {
   "cell_type": "markdown",
   "metadata": {},
   "source": [
    "### basic recipe for penality parameter optimization\n",
    "\n",
    "The following code summarizes the basic current pattern for choosing the penalization parameter and visualizing the estimated smooth function.\n",
    "\n",
    "This just uses Nelder-Mead as optimizer which could be replaced by other optimizers like basinhopping."
   ]
  },
  {
   "cell_type": "code",
   "execution_count": 68,
   "metadata": {
    "collapsed": false
   },
   "outputs": [
    {
     "name": "stdout",
     "output_type": "stream",
     "text": [
      "Optimization terminated successfully.\n",
      "         Current function value: 907.222821\n",
      "         Iterations: 116\n",
      "         Function evaluations: 216\n",
      "[ 11.63059839   4.8667288 ] [ 112487.6132559      129.89530824]\n"
     ]
    },
    {
     "data": {
      "image/png": "[encoded data removed]",
      "text/plain": [
       "<matplotlib.figure.Figure at 0xfa6fa90>"
      ]
     },
     "metadata": {},
     "output_type": "display_data"
    }
   ],
   "source": [
    "x0 = [0, 0]\n",
    "fun = lambda p: gam_bs._fit_pirls(alpha=[np.exp(p[0]), np.exp(p[1])]).aic\n",
    "a = fmin(fun, x0)\n",
    "print(a, np.exp(a))\n",
    "gam_bs_aic = GLMGam(df_autos['city_mpg'], exog=exog, smoother=bs,\n",
    "                alpha=np.exp(a))\n",
    "res_aic = gam_bs_aic.fit()\n",
    "\n",
    "fig = plt.figure(figsize=(6, 8))\n",
    "ax0 = fig.add_subplot(211)\n",
    "fig = res_aic.plot_partial(0, cpr=True, ax=ax0)\n",
    "ax1 = fig.add_subplot(212)\n",
    "fig = res_aic.plot_partial(1, cpr=True, ax=ax1)"
   ]
  },
  {
   "cell_type": "code",
   "execution_count": 69,
   "metadata": {
    "collapsed": false
   },
   "outputs": [
    {
     "data": {
      "text/plain": [
       "                        fun: 907.22282095619732\n",
       " lowest_optimization_result:  final_simplex: (array([[ 11.63059094,   4.8667184 ],\n",
       "       [ 11.63058094,   4.86666148],\n",
       "       [ 11.63050623,   4.86670023]]), array([ 907.22282096,  907.22282096,  907.22282096]))\n",
       "           fun: 907.22282095619732\n",
       "       message: 'Optimization terminated successfully.'\n",
       "          nfev: 66\n",
       "           nit: 34\n",
       "        status: 0\n",
       "       success: True\n",
       "             x: array([ 11.63059094,   4.8667184 ])\n",
       "                    message: ['requested number of basinhopping iterations completed successfully']\n",
       "      minimization_failures: 0\n",
       "                       nfev: 759\n",
       "                        nit: 10\n",
       "                          x: array([ 11.63059094,   4.8667184 ])"
      ]
     },
     "execution_count": 69,
     "metadata": {},
     "output_type": "execute_result"
    }
   ],
   "source": [
    "x0 = [1, 1]\n",
    "basinhopping(fun, x0, minimizer_kwargs={'method': 'Nelder-Mead'}, niter=10)"
   ]
  },
  {
   "cell_type": "code",
   "execution_count": null,
   "metadata": {
    "collapsed": true
   },
   "outputs": [],
   "source": []
  }
 ],
 "metadata": {
  "kernelspec": {
   "display_name": "Python 3",
   "language": "python",
   "name": "python3"
  },
  "language_info": {
   "codemirror_mode": {
    "name": "ipython",
    "version": 3
   },
   "file_extension": ".py",
   "mimetype": "text/x-python",
   "name": "python",
   "nbconvert_exporter": "python",
   "pygments_lexer": "ipython3",
   "version": "3.4.4"
  }
 },
 "nbformat": 4,
 "nbformat_minor": 1
}
